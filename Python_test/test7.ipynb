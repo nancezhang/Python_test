{
 "cells": [
  {
   "cell_type": "code",
   "execution_count": 1,
   "metadata": {},
   "outputs": [
    {
     "name": "stdout",
     "output_type": "stream",
     "text": [
      "GauThree Method: 0.6666666671285936\n",
      "GauFive Method: 0.6666666666999226\n"
     ]
    }
   ],
   "source": [
    "#求任意函数从-1到1的积分    \n",
    "def fun(x):  \n",
    "    return x**2 \n",
    "  \n",
    "GauThree={0.7745966692:0.555555556,0:0.8888888889}  \n",
    "GauFive={0.9061798459:0.2369268851,0.5384693101:0.4786286705,0:0.5688888889}  \n",
    "GauSum=0.0  \n",
    "for key,value in GauThree.items():  \n",
    "    if(key>0):  \n",
    "        GauSum+=fun(key)*value  \n",
    "        GauSum+=fun(-key)*value  \n",
    "    else:  \n",
    "        GauSum+=fun(key)*value  \n",
    "print (\"GauThree Method:\",GauSum)  \n",
    "GauSum=0.0  \n",
    "for key,value in GauFive.items():  \n",
    "    if(key>0):  \n",
    "        GauSum+=fun(key)*value  \n",
    "        GauSum+=fun(-key)*value  \n",
    "    else:  \n",
    "        GauSum+=fun(key)*value  \n",
    "print (\"GauFive Method:\",GauSum)  "
   ]
  },
  {
   "cell_type": "code",
   "execution_count": 2,
   "metadata": {},
   "outputs": [
    {
     "name": "stdout",
     "output_type": "stream",
     "text": [
      "Input a and b as two numbers(must promise a<b):\n",
      "input a please:1\n",
      "input b please:2\n",
      "GauThree Method: 2.333333334403574\n",
      "GauFive  Method: 2.3333333334499904\n"
     ]
    }
   ],
   "source": [
    "#任意区间上对函数的积分  \n",
    "def fun(x):  \n",
    "    return x**2  \n",
    "  \n",
    "def main():  \n",
    "    GauThree={0.7745966692:0.555555556,0:0.8888888889}  \n",
    "    GauFive={0.9061798459:0.2369268851,0.5384693101:0.4786286705,0:0.5688888889}  \n",
    "    GauSum=0.0  \n",
    "    print (\"Input a and b as two numbers(must promise a<b):\")  \n",
    "    a=int(input(\"input a please:\"))  \n",
    "    b=int(input(\"input b please:\"))  \n",
    "    for key,value in GauThree.items():  \n",
    "        GauSum+=fun(((b-a)*key+a+b)/2)*value  \n",
    "        if(key>0):  \n",
    "            GauSum+=fun(((a-b)*key+a+b)/2)*value  \n",
    "    GauSum=GauSum*(b-a)/2  \n",
    "    print (\"GauThree Method:\",GauSum)  \n",
    "    GauSum=0.0  \n",
    "    for key,value in GauFive.items():  \n",
    "        GauSum+=fun(((b-a)*key+a+b)/2)*value  \n",
    "        if(key>0):  \n",
    "            GauSum+=fun(((a-b)*key+a+b)/2)*value  \n",
    "    GauSum=GauSum*(b-a)/2  \n",
    "    print (\"GauFive  Method:\",GauSum)  \n",
    "main()  "
   ]
  },
  {
   "cell_type": "code",
   "execution_count": 3,
   "metadata": {},
   "outputs": [
    {
     "name": "stdout",
     "output_type": "stream",
     "text": [
      "Input a and b as two numbers(must promise a<b):\n",
      "input a please:1\n",
      "input b please:2\n",
      "GauThree Method: 14.200514497011152\n",
      "GauFive  Method: 14.200519964237872\n"
     ]
    }
   ],
   "source": [
    "#任意区间上对函数的曲线积分  \n",
    "import math  \n",
    "def fun(x):  \n",
    "    return x**2+2  \n",
    "  \n",
    "#如果修改了fun函数，注意修改下面这个函数作为fun的导数dy/dx  \n",
    "def Dfun(x):  \n",
    "    return 2*x\n",
    "\n",
    "def main():  \n",
    "    GauThree={0.7745966692:0.555555556,0:0.8888888889}  \n",
    "    GauFive={0.9061798459:0.2369268851,0.5384693101:0.4786286705,0:0.5688888889}  \n",
    "    GauSum=0.0  \n",
    "    print (\"Input a and b as two numbers(must promise a<b):\")  \n",
    "    a=int(input(\"input a please:\"))  \n",
    "    b=int(input(\"input b please:\"))  \n",
    "    for key,value in GauThree.items():  \n",
    "        GauSum+=fun(((b-a)*key+a+b)/2)*math.sqrt(1+Dfun(((b-a)*key+a+b)/2)**2)*value  \n",
    "        if(key>0):  \n",
    "            GauSum+=fun(((a-b)*key+a+b)/2)*math.sqrt(1+Dfun(((a-b)*key+a+b)/2)**2)*value  \n",
    "    GauSum=GauSum*(b-a)/2  \n",
    "    print (\"GauThree Method:\",GauSum)  \n",
    "    GauSum=0.0  \n",
    "    for key,value in GauFive.items():  \n",
    "        GauSum+=fun(((b-a)*key+a+b)/2)*math.sqrt(1+Dfun(((b-a)*key+a+b)/2)**2)*value  \n",
    "        if(key>0):  \n",
    "            GauSum+=fun(((a-b)*key+a+b)/2)*math.sqrt(1+Dfun(((a-b)*key+a+b)/2)**2)*value  \n",
    "    GauSum=GauSum*(b-a)/2  \n",
    "    print (\"GauFive  Method:\",GauSum)  \n",
    "main()  "
   ]
  },
  {
   "cell_type": "code",
   "execution_count": null,
   "metadata": {},
   "outputs": [],
   "source": []
  }
 ],
 "metadata": {
  "kernelspec": {
   "display_name": "Python 3",
   "language": "python",
   "name": "python3"
  },
  "language_info": {
   "codemirror_mode": {
    "name": "ipython",
    "version": 3
   },
   "file_extension": ".py",
   "mimetype": "text/x-python",
   "name": "python",
   "nbconvert_exporter": "python",
   "pygments_lexer": "ipython3",
   "version": "3.6.4"
  }
 },
 "nbformat": 4,
 "nbformat_minor": 2
}
