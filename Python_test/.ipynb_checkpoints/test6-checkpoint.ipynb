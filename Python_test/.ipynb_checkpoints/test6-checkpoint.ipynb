{
 "cells": [
  {
   "cell_type": "code",
   "execution_count": 1,
   "metadata": {},
   "outputs": [],
   "source": [
    "import numpy as np"
   ]
  },
  {
   "cell_type": "code",
   "execution_count": 10,
   "metadata": {},
   "outputs": [],
   "source": [
    "box = [0,1,0,1]\n",
    "nx = 5\n",
    "ny = 3\n",
    "NN = (nx+1)*(ny+1)\n",
    "NC = nx*ny"
   ]
  },
  {
   "cell_type": "code",
   "execution_count": 12,
   "metadata": {},
   "outputs": [
    {
     "name": "stdout",
     "output_type": "stream",
     "text": [
      "[[0.  0.2 0.4 0.6 0.8 1. ]\n",
      " [0.  0.2 0.4 0.6 0.8 1. ]\n",
      " [0.  0.2 0.4 0.6 0.8 1. ]\n",
      " [0.  0.2 0.4 0.6 0.8 1. ]]\n",
      "[[0.         0.         0.         0.         0.         0.        ]\n",
      " [0.33333333 0.33333333 0.33333333 0.33333333 0.33333333 0.33333333]\n",
      " [0.66666667 0.66666667 0.66666667 0.66666667 0.66666667 0.66666667]\n",
      " [1.         1.         1.         1.         1.         1.        ]]\n"
     ]
    }
   ],
   "source": [
    "node = np.zeros((NN,2))\n",
    "X1,Y1= np.mgrid[:box[1]:complex(nx+1),:box[3]:complex(ny+1)]#return mesh-grid ndarrays all of the same dimensions\n",
    "X=X1.T\n",
    "Y=Y1.T\n",
    "print(X)\n",
    "print(Y)"
   ]
  },
  {
   "cell_type": "code",
   "execution_count": 13,
   "metadata": {},
   "outputs": [
    {
     "name": "stdout",
     "output_type": "stream",
     "text": [
      "[[0.         0.        ]\n",
      " [0.2        0.        ]\n",
      " [0.4        0.        ]\n",
      " [0.6        0.        ]\n",
      " [0.8        0.        ]\n",
      " [1.         0.        ]\n",
      " [0.         0.33333333]\n",
      " [0.2        0.33333333]\n",
      " [0.4        0.33333333]\n",
      " [0.6        0.33333333]\n",
      " [0.8        0.33333333]\n",
      " [1.         0.33333333]\n",
      " [0.         0.66666667]\n",
      " [0.2        0.66666667]\n",
      " [0.4        0.66666667]\n",
      " [0.6        0.66666667]\n",
      " [0.8        0.66666667]\n",
      " [1.         0.66666667]\n",
      " [0.         1.        ]\n",
      " [0.2        1.        ]\n",
      " [0.4        1.        ]\n",
      " [0.6        1.        ]\n",
      " [0.8        1.        ]\n",
      " [1.         1.        ]]\n"
     ]
    }
   ],
   "source": [
    "node[:,0] = X.flatten()#按行取出矩阵X中的元素\n",
    "node[:,1] = Y.flatten()\n",
    "print(node)"
   ]
  },
  {
   "cell_type": "code",
   "execution_count": 14,
   "metadata": {},
   "outputs": [
    {
     "name": "stdout",
     "output_type": "stream",
     "text": [
      "[[ 1  5  0]\n",
      " [ 2  6  1]\n",
      " [ 3  7  2]\n",
      " [ 5  9  4]\n",
      " [ 6 10  5]\n",
      " [ 7 11  6]\n",
      " [ 9 13  8]\n",
      " [10 14  9]\n",
      " [11 15 10]\n",
      " [13 17 12]\n",
      " [14 18 13]\n",
      " [15 19 14]\n",
      " [17 21 16]\n",
      " [18 22 17]\n",
      " [19 23 18]\n",
      " [ 4  0  5]\n",
      " [ 5  1  6]\n",
      " [ 6  2  7]\n",
      " [ 8  4  9]\n",
      " [ 9  5 10]\n",
      " [10  6 11]\n",
      " [12  8 13]\n",
      " [13  9 14]\n",
      " [14 10 15]\n",
      " [16 12 17]\n",
      " [17 13 18]\n",
      " [18 14 19]\n",
      " [20 16 21]\n",
      " [21 17 22]\n",
      " [22 18 23]]\n"
     ]
    }
   ],
   "source": [
    "cell = np.zeros((2*NC,3),dtype = np.int)#cell的类型\n",
    "sign = np.arange(NN).reshape(nx+1,ny+1)#网格每个点的标号，有nx+1列\n",
    "cell[:NC,0] = sign[0:-1,1:].flatten()#每个小正方形下面的小三角形\n",
    "cell[:NC,1] = sign[1:,1:].flatten()\n",
    "cell[:NC,2] = sign[0:-1,0:-1].flatten()\n",
    "cell[NC:,0] = sign[1:,0:-1].flatten()#每个小正方形上面的小三角形\n",
    "cell[NC:,1] = sign[0:-1,0:-1].flatten()\n",
    "cell[NC:,2] = sign[1:,1:].flatten()\n",
    "print(cell)"
   ]
  },
  {
   "cell_type": "code",
   "execution_count": null,
   "metadata": {},
   "outputs": [],
   "source": [
    "'''生成mesh,node,cell图表'''\n",
    "tmesh = TriangleMesh(node, cell)\n",
    "fig, axes = plt.subplots(1, 3,figsize=(15,15))\n",
    "tmesh.add_plot(axes[0])\n",
    "tmesh.find_node(axes[0], showindex=True, markersize=20, fontsize=20)\n",
    "tmesh.find_cell(axes[0], showindex=True, markersize=15, fontsize=15)\n",
    "axes[0].set_title('mesh')\n",
    "for ax in axes.reshape(-1)[1:]:\n",
    "    ax.axis('tight')\n",
    "    ax.axis('off')\n",
    "axes[1].table(cellText=node, rowLabels=np.arange(NN), loc='center')\n",
    "axes[1].set_title('node', y=0.2)\n",
    "axes[2].table(cellText=cell, rowLabels=np.arange(2*NC), loc='center')\n",
    "axes[2].set_title('cell', y=0.9)\n",
    "plt.tight_layout(pad=0.4, w_pad=1, h_pad=1.0)\n",
    "plt.show()"
   ]
  },
  {
   "cell_type": "code",
   "execution_count": 2,
   "metadata": {},
   "outputs": [],
   "source": [
    "x,y=np.mgrid[:4,:6]"
   ]
  },
  {
   "cell_type": "code",
   "execution_count": 3,
   "metadata": {},
   "outputs": [
    {
     "name": "stdout",
     "output_type": "stream",
     "text": [
      "[[0 0 0 0 0 0]\n",
      " [1 1 1 1 1 1]\n",
      " [2 2 2 2 2 2]\n",
      " [3 3 3 3 3 3]] [[0 1 2 3 4 5]\n",
      " [0 1 2 3 4 5]\n",
      " [0 1 2 3 4 5]\n",
      " [0 1 2 3 4 5]]\n"
     ]
    }
   ],
   "source": [
    "print(x,y)"
   ]
  },
  {
   "cell_type": "code",
   "execution_count": 4,
   "metadata": {},
   "outputs": [],
   "source": [
    "x=np.arange(4)\n",
    "y=np.arange(6)\n",
    "x,y=np.meshgrid(x,y)"
   ]
  },
  {
   "cell_type": "code",
   "execution_count": 5,
   "metadata": {},
   "outputs": [
    {
     "name": "stdout",
     "output_type": "stream",
     "text": [
      "[[0 1 2 3]\n",
      " [0 1 2 3]\n",
      " [0 1 2 3]\n",
      " [0 1 2 3]\n",
      " [0 1 2 3]\n",
      " [0 1 2 3]] [[0 0 0 0]\n",
      " [1 1 1 1]\n",
      " [2 2 2 2]\n",
      " [3 3 3 3]\n",
      " [4 4 4 4]\n",
      " [5 5 5 5]]\n"
     ]
    }
   ],
   "source": [
    "print(x,y)"
   ]
  },
  {
   "cell_type": "code",
   "execution_count": null,
   "metadata": {},
   "outputs": [],
   "source": []
  }
 ],
 "metadata": {
  "kernelspec": {
   "display_name": "Python 3",
   "language": "python",
   "name": "python3"
  },
  "language_info": {
   "codemirror_mode": {
    "name": "ipython",
    "version": 3
   },
   "file_extension": ".py",
   "mimetype": "text/x-python",
   "name": "python",
   "nbconvert_exporter": "python",
   "pygments_lexer": "ipython3",
   "version": "3.6.4"
  }
 },
 "nbformat": 4,
 "nbformat_minor": 2
}
