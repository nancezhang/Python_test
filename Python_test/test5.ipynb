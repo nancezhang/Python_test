{
 "cells": [
  {
   "cell_type": "code",
   "execution_count": 6,
   "metadata": {},
   "outputs": [
    {
     "name": "stdout",
     "output_type": "stream",
     "text": [
      "[-9.31147848e-16  1.02618524e+00 -1.66040259e+00  1.66040259e+00\n",
      " -1.02618524e+00 -4.89858720e-16]\n"
     ]
    }
   ],
   "source": [
    "import numpy as np \n",
    "from scipy import linalg \n",
    "import matplotlib.pyplot as plt \n",
    "\n",
    "#1形成均匀网格剖分\n",
    "a=0\n",
    "b=1\n",
    "N=6\n",
    "h=(b-a)/(N-1)\n",
    "x=np.linspace(a,b,N)\n",
    "\n",
    "#2形成系数矩阵A\n",
    "c1=-1/(h**2)\n",
    "c2=2/(h**2)\n",
    "g=np.hstack((c1*np.ones(N-2),0))\n",
    "c=np.hstack((0,c1*np.ones(N-2)))\n",
    "d=np.hstack((1,c2*np.ones(N-2),1))\n",
    "A=np.diag(g,-1)+np.diag(d)+np.diag(c,1)\n",
    "\n",
    "def u(x):\n",
    "    u=np.sin(4*np.pi*x)\n",
    "    return u\n",
    "def f(x):\n",
    "    f=16*np.pi**2*np.sin(4*np.pi*x)\n",
    "    return f\n",
    "#形成右端项f\n",
    "rhs=f(x)\n",
    "rhs[0]=u(x[0])\n",
    "rhs[N-1]=u(x[N-1])\n",
    "\n",
    "#解线性方程组\n",
    "U=linalg.solve(A,rhs)\n",
    "\n"
   ]
  },
  {
   "cell_type": "code",
   "execution_count": 13,
   "metadata": {},
   "outputs": [
    {
     "name": "stdout",
     "output_type": "stream",
     "text": [
      "[0.  0.2 0.4 0.6 0.8 1. ]\n",
      "[0.  0.1 0.2 0.3 0.4 0.5 0.6 0.7 0.8 0.9 1. ]\n",
      "[0.   0.05 0.1  0.15 0.2  0.25 0.3  0.35 0.4  0.45 0.5  0.55 0.6  0.65\n",
      " 0.7  0.75 0.8  0.85 0.9  0.95 1.  ]\n",
      "[0.    0.025 0.05  0.075 0.1   0.125 0.15  0.175 0.2   0.225 0.25  0.275\n",
      " 0.3   0.325 0.35  0.375 0.4   0.425 0.45  0.475 0.5   0.525 0.55  0.575\n",
      " 0.6   0.625 0.65  0.675 0.7   0.725 0.75  0.775 0.8   0.825 0.85  0.875\n",
      " 0.9   0.925 0.95  0.975 1.   ]\n",
      "[0.     0.0125 0.025  0.0375 0.05   0.0625 0.075  0.0875 0.1    0.1125\n",
      " 0.125  0.1375 0.15   0.1625 0.175  0.1875 0.2    0.2125 0.225  0.2375\n",
      " 0.25   0.2625 0.275  0.2875 0.3    0.3125 0.325  0.3375 0.35   0.3625\n",
      " 0.375  0.3875 0.4    0.4125 0.425  0.4375 0.45   0.4625 0.475  0.4875\n",
      " 0.5    0.5125 0.525  0.5375 0.55   0.5625 0.575  0.5875 0.6    0.6125\n",
      " 0.625  0.6375 0.65   0.6625 0.675  0.6875 0.7    0.7125 0.725  0.7375\n",
      " 0.75   0.7625 0.775  0.7875 0.8    0.8125 0.825  0.8375 0.85   0.8625\n",
      " 0.875  0.8875 0.9    0.9125 0.925  0.9375 0.95   0.9625 0.975  0.9875\n",
      " 1.    ]\n"
     ]
    }
   ],
   "source": [
    "a=0\n",
    "b=1\n",
    "N=np.array([6,11,21,41,81])\n",
    "for t in N:\n",
    "    x=np.linspace(a,b,t)\n",
    "    print(x)\n"
   ]
  },
  {
   "cell_type": "code",
   "execution_count": 45,
   "metadata": {},
   "outputs": [
    {
     "ename": "SyntaxError",
     "evalue": "invalid syntax (<ipython-input-45-cef48d794426>, line 35)",
     "output_type": "error",
     "traceback": [
      "\u001b[0;36m  File \u001b[0;32m\"<ipython-input-45-cef48d794426>\"\u001b[0;36m, line \u001b[0;32m35\u001b[0m\n\u001b[0;31m    plt.plot((x,u,label=\"exact\",color=\"red\"),(x,U))\u001b[0m\n\u001b[0m                       ^\u001b[0m\n\u001b[0;31mSyntaxError\u001b[0m\u001b[0;31m:\u001b[0m invalid syntax\n"
     ]
    }
   ],
   "source": [
    "import numpy as np \n",
    "from scipy import linalg \n",
    "import matplotlib.pyplot as plt \n",
    "\n",
    "#1形成均匀网格剖分\n",
    "a=0\n",
    "b=1\n",
    "N=np.array([6,11,21,41,81])\n",
    "for t in N:\n",
    "    i=(b-a)/(t-1)\n",
    "    x=np.linspace(a,b,t)\n",
    "\n",
    "#2形成系数矩阵A\n",
    "    c1=-1/(i**2)\n",
    "    c2=2/(i**2)\n",
    "    g=np.hstack((c1*np.ones(t-2),0))\n",
    "    c=np.hstack((0,c1*np.ones(t-2)))\n",
    "    d=np.hstack((1,c2*np.ones(t-2),1))\n",
    "    A=np.diag(g,-1)+np.diag(d)+np.diag(c,1)\n",
    "\n",
    "#形成右端项f\n",
    "    def u(x):\n",
    "        u=np.sin(4*np.pi*x)\n",
    "        return u\n",
    "    def f1(x):\n",
    "        f1=16*np.pi**2*np.sin(4*np.pi*x)\n",
    "        return f1\n",
    "    f=f1(x)\n",
    "    f[0]=u(x[0])\n",
    "    f[t-1]=u(x[t-1])\n",
    "\n",
    "#解线性方程组\n",
    "    U=linalg.solve(A,f)\n",
    "    print(U)\n",
    "    plt.plot(x,u,label=\"exact\",color=\"red\",(x,U)\n",
    "    #plt.plot(x,U,label=\"N=i in np.array([6,11,21,41,81])\",color=\"j in np.array([\"-ro\",\"-gs\",\"-bd\",\"-ch\",\"-mx\"])\")\n",
    "    plt.xlabel(\"x\")\n",
    "    plt.ylabel(\"u\")\n",
    "    plt.title(\"The solution plot\")\n",
    "    plt.legend()\n",
    "    plt.show()"
   ]
  },
  {
   "cell_type": "code",
   "execution_count": null,
   "metadata": {},
   "outputs": [],
   "source": []
  },
  {
   "cell_type": "code",
   "execution_count": null,
   "metadata": {},
   "outputs": [],
   "source": []
  }
 ],
 "metadata": {
  "kernelspec": {
   "display_name": "Python 3",
   "language": "python",
   "name": "python3"
  },
  "language_info": {
   "codemirror_mode": {
    "name": "ipython",
    "version": 3
   },
   "file_extension": ".py",
   "mimetype": "text/x-python",
   "name": "python",
   "nbconvert_exporter": "python",
   "pygments_lexer": "ipython3",
   "version": "3.6.4"
  }
 },
 "nbformat": 4,
 "nbformat_minor": 2
}
