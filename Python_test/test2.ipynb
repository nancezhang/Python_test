{
 "cells": [
  {
   "cell_type": "code",
   "execution_count": 10,
   "metadata": {},
   "outputs": [
    {
     "name": "stdout",
     "output_type": "stream",
     "text": [
      "CPU times: user 200 ms, sys: 16 ms, total: 216 ms\n",
      "Wall time: 218 ms\n",
      "CPU times: user 15.4 ms, sys: 0 ns, total: 15.4 ms\n",
      "Wall time: 15.1 ms\n",
      "CPU times: user 836 ms, sys: 0 ns, total: 836 ms\n",
      "Wall time: 836 ms\n"
     ]
    }
   ],
   "source": [
    "import numpy as np\n",
    "import math\n",
    "t=np.arange(1000000)\n",
    "x=[i*0.001 for i in t]\n",
    "def sin_math(x):\n",
    "    for i,t in enumerate(x):\n",
    "        x[i]=math.sin(t)\n",
    "def sin_numpy(x):\n",
    "    np.sin(x,x)\n",
    "def sin_numpy_loop(x):\n",
    "    for i,t in enumerate(x):\n",
    "        x[i]=np.sin(t)\n",
    "x1=x[:]\n",
    "%time sin_math(x)\n",
    "x2=np.array(x)\n",
    "%time sin_numpy(x2)\n",
    "x3=x[:]\n",
    "%time sin_numpy_loop(x)"
   ]
  },
  {
   "cell_type": "code",
   "execution_count": 3,
   "metadata": {},
   "outputs": [
    {
     "name": "stdout",
     "output_type": "stream",
     "text": [
      "CPU times: user 213 ms, sys: 4.02 ms, total: 217 ms\n",
      "Wall time: 217 ms\n",
      "CPU times: user 15.3 ms, sys: 11 µs, total: 15.3 ms\n",
      "Wall time: 15 ms\n",
      "CPU times: user 844 ms, sys: 3.95 ms, total: 847 ms\n",
      "Wall time: 847 ms\n"
     ]
    }
   ],
   "source": [
    "import numpy as np\n",
    "import math\n",
    "t=np.arange(1000000)\n",
    "x=[i*0.001 for i in t]\n",
    "def sin_math(x):\n",
    "    for i,t in enumerate(x):\n",
    "        x[i]=math.sin(t)\n",
    "def sin_numpy(x):\n",
    "    np.sin(x,x)\n",
    "def sin_numpy_loop(x):\n",
    "    for i,t in enumerate(x):\n",
    "        x[i]=np.sin(t)\n",
    "x1=x[:]\n",
    "%time sin_math(x)\n",
    "x2=np.array(x)\n",
    "%time sin_numpy(x2)\n",
    "x3=x[:]\n",
    "%time sin_numpy_loop(x)"
   ]
  },
  {
   "cell_type": "code",
   "execution_count": 4,
   "metadata": {},
   "outputs": [
    {
     "data": {
      "text/plain": [
       "numpy.float64"
      ]
     },
     "execution_count": 4,
     "metadata": {},
     "output_type": "execute_result"
    }
   ],
   "source": [
    "import numpy as np\n",
    "type(np.sin(0.5))"
   ]
  },
  {
   "cell_type": "code",
   "execution_count": 5,
   "metadata": {},
   "outputs": [
    {
     "data": {
      "text/plain": [
       "float"
      ]
     },
     "execution_count": 5,
     "metadata": {},
     "output_type": "execute_result"
    }
   ],
   "source": [
    "type(math.sin(0.5))"
   ]
  },
  {
   "cell_type": "code",
   "execution_count": 12,
   "metadata": {},
   "outputs": [
    {
     "name": "stdout",
     "output_type": "stream",
     "text": [
      "5.0\n"
     ]
    },
    {
     "data": {
      "text/plain": [
       "(None, float, numpy.float64)"
      ]
     },
     "execution_count": 12,
     "metadata": {},
     "output_type": "execute_result"
    }
   ],
   "source": [
    "import numpy as np\n",
    "a=np.arange(6.0).reshape(2,3)\n",
    "print(a.item(1,2)),type(a.item(1,2)),type(a[1,2])"
   ]
  },
  {
   "cell_type": "code",
   "execution_count": 11,
   "metadata": {},
   "outputs": [
    {
     "name": "stdout",
     "output_type": "stream",
     "text": [
      "5.0\n"
     ]
    }
   ],
   "source": [
    "import numpy as np\n",
    "a=np.arange(6.0).reshape(2,3)\n",
    "print(a.item(1,2))"
   ]
  },
  {
   "cell_type": "code",
   "execution_count": 28,
   "metadata": {},
   "outputs": [
    {
     "data": {
      "text/plain": [
       "array([0, 1, 2, 3])"
      ]
     },
     "execution_count": 28,
     "metadata": {},
     "output_type": "execute_result"
    }
   ],
   "source": [
    "import numpy as np\n",
    "a=np.arange(0,4)\n",
    "b=np.arange(1,5)\n",
    "np.remainder(a,b)"
   ]
  },
  {
   "cell_type": "code",
   "execution_count": 34,
   "metadata": {},
   "outputs": [
    {
     "data": {
      "text/plain": [
       "array([False, False, False, False])"
      ]
     },
     "execution_count": 34,
     "metadata": {},
     "output_type": "execute_result"
    }
   ],
   "source": [
    "import numpy as np\n",
    "a=np.arange(0,4)\n",
    "b=np.arange(1,5)\n",
    "np.greater(a,b)"
   ]
  },
  {
   "cell_type": "code",
   "execution_count": 35,
   "metadata": {},
   "outputs": [
    {
     "data": {
      "text/plain": [
       "array([False, False, False, False])"
      ]
     },
     "execution_count": 35,
     "metadata": {},
     "output_type": "execute_result"
    }
   ],
   "source": [
    "import numpy as np\n",
    "a=np.arange(0,4)\n",
    "b=np.arange(1,5)\n",
    "np.logical_or(a==b,a>b)"
   ]
  },
  {
   "cell_type": "code",
   "execution_count": 38,
   "metadata": {},
   "outputs": [
    {
     "data": {
      "text/plain": [
       "True"
      ]
     },
     "execution_count": 38,
     "metadata": {},
     "output_type": "execute_result"
    }
   ],
   "source": [
    "import numpy as np\n",
    "a=np.arange(0,4)\n",
    "b=np.arange(-1,6,2)\n",
    "np.any(a==b)"
   ]
  },
  {
   "cell_type": "code",
   "execution_count": 39,
   "metadata": {},
   "outputs": [
    {
     "data": {
      "text/plain": [
       "array([-1, -2, -3, -4, -5])"
      ]
     },
     "execution_count": 39,
     "metadata": {},
     "output_type": "execute_result"
    }
   ],
   "source": [
    "import numpy as np\n",
    "~np.arange(5)"
   ]
  },
  {
   "cell_type": "code",
   "execution_count": 16,
   "metadata": {},
   "outputs": [
    {
     "name": "stdout",
     "output_type": "stream",
     "text": [
      "float64\n",
      "[0.         0.05050505 0.1010101  0.15151515 0.2020202  0.25252525\n",
      " 0.3030303  0.35353535 0.4040404  0.45454545 0.50505051 0.55555556\n",
      " 0.60606061 0.65656566 0.70707071 0.75757576 0.80808081 0.85858586\n",
      " 0.90909091 0.95959596 0.97979798 0.87878788 0.77777778 0.67676768\n",
      " 0.57575758 0.47474747 0.37373737 0.27272727 0.17171717 0.07070707\n",
      " 0.         0.         0.         0.         0.         0.\n",
      " 0.         0.         0.         0.         0.         0.\n",
      " 0.         0.         0.         0.         0.         0.\n",
      " 0.         0.         0.02525253 0.07575758 0.12626263 0.17676768\n",
      " 0.22727273 0.27777778 0.32828283 0.37878788 0.42929293 0.47979798\n",
      " 0.53030303 0.58080808 0.63131313 0.68181818 0.73232323 0.78282828\n",
      " 0.83333333 0.88383838 0.93434343 0.98484848 0.92929293 0.82828283\n",
      " 0.72727273 0.62626263 0.52525253 0.42424242 0.32323232 0.22222222\n",
      " 0.12121212 0.02020202 0.         0.         0.         0.\n",
      " 0.         0.         0.         0.         0.         0.\n",
      " 0.         0.         0.         0.         0.         0.\n",
      " 0.         0.         0.         0.        ]\n"
     ]
    }
   ],
   "source": [
    "def triangle_wave(x,c,c0,hc):\n",
    "    x=x-int(x)\n",
    "    if x>=c:\n",
    "        r=0.0\n",
    "    elif x<c0:\n",
    "        r=x/c0*hc\n",
    "    else:\n",
    "        r=(c-x)/(c-c0)*hc\n",
    "    return r\n",
    "import numpy as np\n",
    "x=np.linspace(0,2,100)\n",
    "y1=np.array([triangle_wave(t,0.6,0.4,1.0)for t in x])\n",
    "print(y1.dtype)\n",
    "print(y1)"
   ]
  },
  {
   "cell_type": "code",
   "execution_count": 1,
   "metadata": {},
   "outputs": [
    {
     "name": "stdout",
     "output_type": "stream",
     "text": [
      "object [0.0 0.050505050505050504 0.10101010101010101 0.15151515151515152\n",
      " 0.20202020202020202 0.25252525252525254 0.30303030303030304\n",
      " 0.3535353535353536 0.40404040404040403 0.45454545454545453\n",
      " 0.5050505050505051 0.5555555555555556 0.6060606060606061\n",
      " 0.6565656565656566 0.7070707070707072 0.7575757575757576\n",
      " 0.8080808080808081 0.8585858585858587 0.9090909090909091\n",
      " 0.9595959595959597 0.9797979797979797 0.8787878787878788\n",
      " 0.7777777777777777 0.6767676767676766 0.5757575757575757\n",
      " 0.4747474747474746 0.3737373737373734 0.2727272727272723\n",
      " 0.17171717171717119 0.07070707070707062 0.0 0.0 0.0 0.0 0.0 0.0 0.0 0.0\n",
      " 0.0 0.0 0.0 0.0 0.0 0.0 0.0 0.0 0.0 0.0 0.0 0.0 0.025252525252525415\n",
      " 0.07575757575757625 0.12626262626262652 0.1767676767676768\n",
      " 0.22727272727272763 0.2777777777777779 0.32828282828282873\n",
      " 0.378787878787879 0.4292929292929293 0.4797979797979801\n",
      " 0.5303030303030304 0.5808080808080812 0.6313131313131315\n",
      " 0.6818181818181823 0.7323232323232326 0.7828282828282829\n",
      " 0.8333333333333337 0.883838383838384 0.9343434343434348\n",
      " 0.9848484848484851 0.9292929292929283 0.8282828282828277\n",
      " 0.7272727272727271 0.6262626262626254 0.5252525252525249\n",
      " 0.4242424242424232 0.3232323232323226 0.22222222222222204\n",
      " 0.12121212121212036 0.02020202020201978 0.0 0.0 0.0 0.0 0.0 0.0 0.0 0.0\n",
      " 0.0 0.0 0.0 0.0 0.0 0.0 0.0 0.0 0.0 0.0 0.0 0.0] float64\n"
     ]
    }
   ],
   "source": [
    "def triangle_wave(x,c,c0,hc):\n",
    "    x=x-int(x)\n",
    "    if x>=c:\n",
    "        r=0.0\n",
    "    elif x<c0:\n",
    "        r=x/c0*hc\n",
    "    else:\n",
    "        r=(c-x)/(c-c0)*hc\n",
    "    return r\n",
    "import numpy as np\n",
    "x=np.linspace(0,2,100)\n",
    "triangle_ufunc1=np.frompyfunc(triangle_wave,4,1)\n",
    "y2=triangle_ufunc1(x,0.6,0.4,1.0)\n",
    "print(y2.dtype,y2,y2.astype(np.float).dtype)"
   ]
  },
  {
   "cell_type": "code",
   "execution_count": 3,
   "metadata": {},
   "outputs": [
    {
     "name": "stdout",
     "output_type": "stream",
     "text": [
      "float64 [0.         0.05050505 0.1010101  0.15151515 0.2020202  0.25252525\n",
      " 0.3030303  0.35353535 0.4040404  0.45454545 0.50505051 0.55555556\n",
      " 0.60606061 0.65656566 0.70707071 0.75757576 0.80808081 0.85858586\n",
      " 0.90909091 0.95959596 0.97979798 0.87878788 0.77777778 0.67676768\n",
      " 0.57575758 0.47474747 0.37373737 0.27272727 0.17171717 0.07070707\n",
      " 0.         0.         0.         0.         0.         0.\n",
      " 0.         0.         0.         0.         0.         0.\n",
      " 0.         0.         0.         0.         0.         0.\n",
      " 0.         0.         0.02525253 0.07575758 0.12626263 0.17676768\n",
      " 0.22727273 0.27777778 0.32828283 0.37878788 0.42929293 0.47979798\n",
      " 0.53030303 0.58080808 0.63131313 0.68181818 0.73232323 0.78282828\n",
      " 0.83333333 0.88383838 0.93434343 0.98484848 0.92929293 0.82828283\n",
      " 0.72727273 0.62626263 0.52525253 0.42424242 0.32323232 0.22222222\n",
      " 0.12121212 0.02020202 0.         0.         0.         0.\n",
      " 0.         0.         0.         0.         0.         0.\n",
      " 0.         0.         0.         0.         0.         0.\n",
      " 0.         0.         0.         0.        ]\n"
     ]
    }
   ],
   "source": [
    "def triangle_wave(x,c,c0,hc):\n",
    "    x=x-int(x)\n",
    "    if x>=c:\n",
    "        r=0.0\n",
    "    elif x<c0:\n",
    "        r=x/c0*hc\n",
    "    else:\n",
    "        r=(c-x)/(c-c0)*hc\n",
    "    return r\n",
    "import numpy as np\n",
    "x=np.linspace(0,2,100)\n",
    "triangle_ufunc2=np.vectorize(triangle_wave,otypes=[np.float])\n",
    "y3=triangle_ufunc2(x,0.6,0.4,1.0)\n",
    "print(y3.dtype,y3)"
   ]
  },
  {
   "cell_type": "markdown",
   "metadata": {},
   "source": []
  }
 ],
 "metadata": {
  "kernelspec": {
   "display_name": "Python 3",
   "language": "python",
   "name": "python3"
  },
  "language_info": {
   "codemirror_mode": {
    "name": "ipython",
    "version": 3
   },
   "file_extension": ".py",
   "mimetype": "text/x-python",
   "name": "python",
   "nbconvert_exporter": "python",
   "pygments_lexer": "ipython3",
   "version": "3.6.4"
  }
 },
 "nbformat": 4,
 "nbformat_minor": 2
}
